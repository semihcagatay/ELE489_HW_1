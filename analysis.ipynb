{
 "cells": [
  {
   "cell_type": "code",
   "execution_count": 9,
   "id": "7322a6e9-744f-4734-ba93-9594a79bd6ea",
   "metadata": {},
   "outputs": [],
   "source": [
    "# -*- coding: utf-8 -*-\n",
    "\"\"\"\n",
    "Spyder Editor\n",
    "\n",
    "This is a temporary script file.\n",
    "\"\"\"\n",
    "import pandas as pd \n",
    "import numpy  as np\n",
    "import os \n",
    "import matplotlib.pyplot as plt \n",
    "import seaborn as sns\n",
    "from sklearn.model_selection import train_test_split\n",
    "from sklearn.preprocessing import StandardScaler\n",
    "from collections import Counter\n",
    "from sklearn.metrics import accuracy_score,confusion_matrix, classification_report\n",
    "\n",
    "\n",
    "\n",
    "wine_names = [\n",
    "    'Class',\n",
    "    'Alcohol',\n",
    " \t'Malic acid',\n",
    " \t'Ash',\n",
    "\t'Alcalinity of ash',  \n",
    " \t'Magnesium',\n",
    "\t'Total phenols',\n",
    " \t'Flavanoids',\n",
    " \t'Nonflavanoid phenols',\n",
    " \t'Proanthocyanins',\n",
    "\t'Color intensity',\n",
    " \t'Hue',\n",
    " \t'OD280/OD315 of diluted wines',\n",
    " \t'Proline'\n",
    "\n",
    "]"
   ]
  },
  {
   "cell_type": "code",
   "execution_count": 11,
   "id": "0eddc531-ef5d-43eb-8e31-22fa8ee485bf",
   "metadata": {},
   "outputs": [
    {
     "data": {
      "text/plain": [
       "'C:\\\\Users\\\\semih\\\\Desktop\\\\MLnotebook'"
      ]
     },
     "execution_count": 11,
     "metadata": {},
     "output_type": "execute_result"
    }
   ],
   "source": [
    "os.getcwd()"
   ]
  },
  {
   "cell_type": "code",
   "execution_count": 29,
   "id": "2b63202e-535b-407f-813d-05020d70dcb7",
   "metadata": {},
   "outputs": [
    {
     "ename": "FileNotFoundError",
     "evalue": "[WinError 3] The system cannot find the path specified: 'Desktop/MLnotebook/winedata/wine.data'",
     "output_type": "error",
     "traceback": [
      "\u001b[1;31m---------------------------------------------------------------------------\u001b[0m",
      "\u001b[1;31mFileNotFoundError\u001b[0m                         Traceback (most recent call last)",
      "Cell \u001b[1;32mIn[29], line 1\u001b[0m\n\u001b[1;32m----> 1\u001b[0m os\u001b[38;5;241m.\u001b[39mchdir(\u001b[38;5;124m'\u001b[39m\u001b[38;5;124mDesktop/MLnotebook/winedata/wine.data\u001b[39m\u001b[38;5;124m'\u001b[39m)\n",
      "\u001b[1;31mFileNotFoundError\u001b[0m: [WinError 3] The system cannot find the path specified: 'Desktop/MLnotebook/winedata/wine.data'"
     ]
    }
   ],
   "source": [
    "os.chdir('C:\\\\Users\\\\semih\\\\Desktop\\\\MLnotebook')\n"
   ]
  },
  {
   "cell_type": "code",
   "execution_count": null,
   "id": "1601af54-7429-4b8e-809e-ff05ed7cee81",
   "metadata": {},
   "outputs": [],
   "source": []
  },
  {
   "cell_type": "code",
   "execution_count": null,
   "id": "e05de986-c548-4d97-8c23-064b7dba02dd",
   "metadata": {},
   "outputs": [],
   "source": []
  },
  {
   "cell_type": "code",
   "execution_count": null,
   "id": "8ec2e0c3-2d2f-4844-abba-556c7e736b83",
   "metadata": {},
   "outputs": [],
   "source": []
  }
 ],
 "metadata": {
  "kernelspec": {
   "display_name": "Python [conda env:base] *",
   "language": "python",
   "name": "conda-base-py"
  },
  "language_info": {
   "codemirror_mode": {
    "name": "ipython",
    "version": 3
   },
   "file_extension": ".py",
   "mimetype": "text/x-python",
   "name": "python",
   "nbconvert_exporter": "python",
   "pygments_lexer": "ipython3",
   "version": "3.12.7"
  }
 },
 "nbformat": 4,
 "nbformat_minor": 5
}
